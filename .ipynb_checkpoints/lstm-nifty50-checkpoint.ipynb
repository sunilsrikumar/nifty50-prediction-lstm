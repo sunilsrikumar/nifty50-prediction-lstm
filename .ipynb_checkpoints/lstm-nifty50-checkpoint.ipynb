{
 "cells": [
  {
   "cell_type": "code",
   "execution_count": 67,
   "id": "5bb05cd6",
   "metadata": {
    "_cell_guid": "b1076dfc-b9ad-4769-8c92-a6c4dae69d19",
    "_uuid": "8f2839f25d086af736a60e9eeb907d3b93b6e0e5",
    "execution": {
     "iopub.execute_input": "2021-08-27T09:15:21.403688Z",
     "iopub.status.busy": "2021-08-27T09:15:21.402975Z",
     "iopub.status.idle": "2021-08-27T09:15:21.420419Z",
     "shell.execute_reply": "2021-08-27T09:15:21.421136Z",
     "shell.execute_reply.started": "2021-08-27T07:16:44.425282Z"
    },
    "papermill": {
     "duration": 0.048503,
     "end_time": "2021-08-27T09:15:21.421532",
     "exception": false,
     "start_time": "2021-08-27T09:15:21.373029",
     "status": "completed"
    },
    "tags": []
   },
   "outputs": [],
   "source": [
    "import numpy as np \n",
    "import pandas as pd "
   ]
  },
  {
   "cell_type": "code",
   "execution_count": 68,
   "id": "0c0f813a",
   "metadata": {
    "execution": {
     "iopub.execute_input": "2021-08-27T09:15:21.460082Z",
     "iopub.status.busy": "2021-08-27T09:15:21.459395Z",
     "iopub.status.idle": "2021-08-27T09:15:27.674448Z",
     "shell.execute_reply": "2021-08-27T09:15:27.673891Z",
     "shell.execute_reply.started": "2021-08-27T07:16:44.445112Z"
    },
    "papermill": {
     "duration": 6.234741,
     "end_time": "2021-08-27T09:15:27.674601",
     "exception": false,
     "start_time": "2021-08-27T09:15:21.439860",
     "status": "completed"
    },
    "tags": []
   },
   "outputs": [],
   "source": [
    "import pickle\n",
    "import matplotlib.pyplot as plt\n",
    "from scipy import stats\n",
    "from keras.layers.core import Dense, Activation, Dropout\n",
    "from keras.layers.recurrent import LSTM\n",
    "from keras.models import Sequential, load_model, save_model\n",
    "import seaborn as sns\n",
    "from pylab import rcParams\n",
    "from sklearn.preprocessing import MinMaxScaler\n",
    "from sklearn import metrics\n",
    "\n",
    "%matplotlib inline\n",
    "\n",
    "sns.set(style='whitegrid', palette='muted', font_scale=1.5)\n",
    "\n",
    "rcParams['figure.figsize'] = 14, 8\n",
    "\n",
    "RANDOM_SEED = 42"
   ]
  },
  {
   "cell_type": "markdown",
   "id": "0743acc5",
   "metadata": {},
   "source": [
    "### Loading Dataset"
   ]
  },
  {
   "cell_type": "code",
   "execution_count": 69,
   "id": "a99cdab5",
   "metadata": {
    "execution": {
     "iopub.execute_input": "2021-08-27T09:15:27.714551Z",
     "iopub.status.busy": "2021-08-27T09:15:27.713887Z",
     "iopub.status.idle": "2021-08-27T09:15:27.762868Z",
     "shell.execute_reply": "2021-08-27T09:15:27.762381Z",
     "shell.execute_reply.started": "2021-08-27T07:16:50.905084Z"
    },
    "papermill": {
     "duration": 0.071358,
     "end_time": "2021-08-27T09:15:27.763031",
     "exception": false,
     "start_time": "2021-08-27T09:15:27.691673",
     "status": "completed"
    },
    "tags": []
   },
   "outputs": [
    {
     "data": {
      "text/html": [
       "<div>\n",
       "<style scoped>\n",
       "    .dataframe tbody tr th:only-of-type {\n",
       "        vertical-align: middle;\n",
       "    }\n",
       "\n",
       "    .dataframe tbody tr th {\n",
       "        vertical-align: top;\n",
       "    }\n",
       "\n",
       "    .dataframe thead th {\n",
       "        text-align: right;\n",
       "    }\n",
       "</style>\n",
       "<table border=\"1\" class=\"dataframe\">\n",
       "  <thead>\n",
       "    <tr style=\"text-align: right;\">\n",
       "      <th></th>\n",
       "      <th>Open</th>\n",
       "      <th>High</th>\n",
       "      <th>Low</th>\n",
       "      <th>Close</th>\n",
       "      <th>Volume</th>\n",
       "    </tr>\n",
       "    <tr>\n",
       "      <th>Date</th>\n",
       "      <th></th>\n",
       "      <th></th>\n",
       "      <th></th>\n",
       "      <th></th>\n",
       "      <th></th>\n",
       "    </tr>\n",
       "  </thead>\n",
       "  <tbody>\n",
       "    <tr>\n",
       "      <th>2015-08-03</th>\n",
       "      <td>8510.650391</td>\n",
       "      <td>8563.950195</td>\n",
       "      <td>8508.099609</td>\n",
       "      <td>8543.049805</td>\n",
       "      <td>156700</td>\n",
       "    </tr>\n",
       "    <tr>\n",
       "      <th>2015-08-04</th>\n",
       "      <td>8564.099609</td>\n",
       "      <td>8565.150391</td>\n",
       "      <td>8448.250000</td>\n",
       "      <td>8516.900391</td>\n",
       "      <td>187400</td>\n",
       "    </tr>\n",
       "    <tr>\n",
       "      <th>2015-08-05</th>\n",
       "      <td>8547.450195</td>\n",
       "      <td>8591.849609</td>\n",
       "      <td>8545.849609</td>\n",
       "      <td>8567.950195</td>\n",
       "      <td>132800</td>\n",
       "    </tr>\n",
       "    <tr>\n",
       "      <th>2015-08-06</th>\n",
       "      <td>8585.799805</td>\n",
       "      <td>8606.299805</td>\n",
       "      <td>8551.500000</td>\n",
       "      <td>8588.650391</td>\n",
       "      <td>134900</td>\n",
       "    </tr>\n",
       "    <tr>\n",
       "      <th>2015-08-07</th>\n",
       "      <td>8580.799805</td>\n",
       "      <td>8595.950195</td>\n",
       "      <td>8552.700195</td>\n",
       "      <td>8564.599609</td>\n",
       "      <td>143700</td>\n",
       "    </tr>\n",
       "  </tbody>\n",
       "</table>\n",
       "</div>"
      ],
      "text/plain": [
       "                   Open         High          Low        Close  Volume\n",
       "Date                                                                  \n",
       "2015-08-03  8510.650391  8563.950195  8508.099609  8543.049805  156700\n",
       "2015-08-04  8564.099609  8565.150391  8448.250000  8516.900391  187400\n",
       "2015-08-05  8547.450195  8591.849609  8545.849609  8567.950195  132800\n",
       "2015-08-06  8585.799805  8606.299805  8551.500000  8588.650391  134900\n",
       "2015-08-07  8580.799805  8595.950195  8552.700195  8564.599609  143700"
      ]
     },
     "execution_count": 69,
     "metadata": {},
     "output_type": "execute_result"
    }
   ],
   "source": [
    "df = pd.read_csv(\"my_data.csv\")\n",
    "plot_x = df['Date'].copy()\n",
    "df.set_index(\"Date\", inplace = True)\n",
    "df.index = pd.to_datetime(df.index)\n",
    "df.head()\n",
    "# print(df.columns.tolist())"
   ]
  },
  {
   "cell_type": "code",
   "execution_count": 70,
   "id": "74e5ef9f",
   "metadata": {
    "execution": {
     "iopub.execute_input": "2021-08-27T09:15:27.803718Z",
     "iopub.status.busy": "2021-08-27T09:15:27.803012Z",
     "iopub.status.idle": "2021-08-27T09:15:27.806949Z",
     "shell.execute_reply": "2021-08-27T09:15:27.806421Z",
     "shell.execute_reply.started": "2021-08-27T07:16:50.950091Z"
    },
    "papermill": {
     "duration": 0.02657,
     "end_time": "2021-08-27T09:15:27.807096",
     "exception": false,
     "start_time": "2021-08-27T09:15:27.780526",
     "status": "completed"
    },
    "tags": []
   },
   "outputs": [
    {
     "name": "stdout",
     "output_type": "stream",
     "text": [
      "<class 'pandas.core.series.Series'>\n"
     ]
    }
   ],
   "source": [
    "print(type(plot_x))"
   ]
  },
  {
   "cell_type": "markdown",
   "id": "e9ea3671",
   "metadata": {
    "papermill": {
     "duration": 0.017665,
     "end_time": "2021-08-27T09:15:27.842596",
     "exception": false,
     "start_time": "2021-08-27T09:15:27.824931",
     "status": "completed"
    },
    "tags": []
   },
   "source": [
    "### Predicting Prices"
   ]
  },
  {
   "cell_type": "code",
   "execution_count": 71,
   "id": "ce64acbe",
   "metadata": {
    "execution": {
     "iopub.execute_input": "2021-08-27T09:15:27.890658Z",
     "iopub.status.busy": "2021-08-27T09:15:27.888745Z",
     "iopub.status.idle": "2021-08-27T09:15:27.898263Z",
     "shell.execute_reply": "2021-08-27T09:15:27.897733Z",
     "shell.execute_reply.started": "2021-08-27T07:16:50.957235Z"
    },
    "papermill": {
     "duration": 0.037908,
     "end_time": "2021-08-27T09:15:27.898415",
     "exception": false,
     "start_time": "2021-08-27T09:15:27.860507",
     "status": "completed"
    },
    "tags": []
   },
   "outputs": [],
   "source": [
    "x_scaler = MinMaxScaler()\n",
    "y_scaler = MinMaxScaler()\n",
    "\n",
    "x = df[['Open', 'Low', 'High', 'Volume']].copy()\n",
    "y = df['Close'].copy()\n",
    "\n",
    "x [['Open', 'Low', 'High', 'Volume']] = x_scaler.fit_transform(x)\n",
    "y = y_scaler.fit_transform(y.values.reshape(-1, 1))"
   ]
  },
  {
   "cell_type": "code",
   "execution_count": 72,
   "id": "45fa6928",
   "metadata": {
    "execution": {
     "iopub.execute_input": "2021-08-27T09:15:27.944641Z",
     "iopub.status.busy": "2021-08-27T09:15:27.943947Z",
     "iopub.status.idle": "2021-08-27T09:15:27.947142Z",
     "shell.execute_reply": "2021-08-27T09:15:27.946546Z",
     "shell.execute_reply.started": "2021-08-27T07:16:50.979516Z"
    },
    "papermill": {
     "duration": 0.030811,
     "end_time": "2021-08-27T09:15:27.947306",
     "exception": false,
     "start_time": "2021-08-27T09:15:27.916495",
     "status": "completed"
    },
    "tags": []
   },
   "outputs": [],
   "source": [
    "def load_data(X, seq_len, train_size=0.9):\n",
    "    amount_of_features = X.shape[1]\n",
    "    X_mat = X.values\n",
    "    sequence_length = seq_len + 1\n",
    "    data = []\n",
    "    \n",
    "    for index in range(len(X_mat) - sequence_length):\n",
    "        data.append(X_mat[index: index + sequence_length])\n",
    "    \n",
    "    data = np.array(data)\n",
    "    train_split = int(round(train_size * data.shape[0]))\n",
    "    train_data = data[:train_split, :]\n",
    "    \n",
    "    x_train = train_data[:, :-1]\n",
    "    y_train = train_data[:, -1][:,-1]\n",
    "    \n",
    "    x_test = data[train_split:, :-1] \n",
    "    y_test = data[train_split:, -1][:,-1]\n",
    "\n",
    "    x_train = np.reshape(x_train, (x_train.shape[0], x_train.shape[1], amount_of_features))\n",
    "    x_test = np.reshape(x_test, (x_test.shape[0], x_test.shape[1], amount_of_features))  \n",
    "\n",
    "    return x_train, y_train, x_test, y_test"
   ]
  },
  {
   "cell_type": "code",
   "execution_count": 73,
   "id": "a4bba16c",
   "metadata": {
    "execution": {
     "iopub.execute_input": "2021-08-27T09:15:27.990683Z",
     "iopub.status.busy": "2021-08-27T09:15:27.989995Z",
     "iopub.status.idle": "2021-08-27T09:15:28.008286Z",
     "shell.execute_reply": "2021-08-27T09:15:28.007752Z",
     "shell.execute_reply.started": "2021-08-27T07:16:50.990191Z"
    },
    "papermill": {
     "duration": 0.04299,
     "end_time": "2021-08-27T09:15:28.008430",
     "exception": false,
     "start_time": "2021-08-27T09:15:27.965440",
     "status": "completed"
    },
    "tags": []
   },
   "outputs": [
    {
     "name": "stdout",
     "output_type": "stream",
     "text": [
      "(1303, 22, 5) (1303,) (145, 22, 5) (145,)\n",
      "[[0.16642982 0.18574992 0.17134201 0.08652678 0.17562206]\n",
      " [0.17241203 0.17914166 0.17147644 0.10347874 0.17270151]\n",
      " [0.17054857 0.18991806 0.17446693 0.07332965 0.17840311]\n",
      " [0.17484078 0.19054194 0.17608544 0.07448923 0.18071505]\n",
      " [0.17428117 0.19067446 0.17492622 0.07934843 0.17802889]\n",
      " [0.17385588 0.18461267 0.17779354 0.06813915 0.1736731 ]\n",
      " [0.1706605  0.17837426 0.17047954 0.08525676 0.16660891]\n",
      " [0.15916039 0.16696299 0.15823724 0.10491441 0.15399952]\n",
      " [0.1523051  0.16716172 0.15628271 0.10447267 0.15471425]\n",
      " [0.15430845 0.17173841 0.16755052 0.08608504 0.17288573]\n",
      " [0.16865145 0.17691127 0.16760653 0.09646604 0.16827865]\n",
      " [0.1658925  0.17752405 0.16706334 0.08464936 0.16707801]\n",
      " [0.16166183 0.17667945 0.16646973 0.07205964 0.17027232]\n",
      " [0.1619976  0.16937    0.16433033 0.10165654 0.1566018 ]\n",
      " [0.14345759 0.15449718 0.14426443 0.11115406 0.14847102]\n",
      " [0.11553833 0.10418692 0.11490187 0.17250138 0.0936383 ]\n",
      " [0.09756903 0.09290811 0.0998202  0.16515737 0.10164627]\n",
      " [0.09419456 0.10503713 0.10034102 0.11960243 0.09172288]\n",
      " [0.10050144 0.1144444  0.10409887 0.16841524 0.10926891]\n",
      " [0.1152865  0.12541407 0.11845808 0.10800663 0.11518831]\n",
      " [0.1103115  0.12390142 0.11305939 0.1094423  0.11176507]\n",
      " [0.0989737  0.10165845 0.10023464 0.10209829 0.09105276]] 0.08336310469563324\n"
     ]
    }
   ],
   "source": [
    "window = 22\n",
    "x['close'] = y\n",
    "X_train, y_train, X_test, y_test = load_data(x, window)\n",
    "print(X_train.shape, y_train.shape, X_test.shape, y_test.shape)\n",
    "print (X_train[0], y_train[0])"
   ]
  },
  {
   "cell_type": "code",
   "execution_count": 74,
   "id": "5c5f2984",
   "metadata": {
    "execution": {
     "iopub.execute_input": "2021-08-27T09:15:28.052731Z",
     "iopub.status.busy": "2021-08-27T09:15:28.052070Z",
     "iopub.status.idle": "2021-08-27T09:15:28.055216Z",
     "shell.execute_reply": "2021-08-27T09:15:28.054686Z",
     "shell.execute_reply.started": "2021-08-27T07:16:51.021913Z"
    },
    "papermill": {
     "duration": 0.028207,
     "end_time": "2021-08-27T09:15:28.055352",
     "exception": false,
     "start_time": "2021-08-27T09:15:28.027145",
     "status": "completed"
    },
    "tags": []
   },
   "outputs": [],
   "source": [
    "def build_model(input_shape):\n",
    "    d = 0.2\n",
    "    model = Sequential()\n",
    "    \n",
    "    model.add(LSTM(128, input_shape=input_shape, return_sequences=True))\n",
    "    model.add(Dropout(d))\n",
    "        \n",
    "    model.add(LSTM(128, input_shape=input_shape, return_sequences=False))\n",
    "    model.add(Dropout(d))\n",
    "        \n",
    "    model.add(Dense(32,kernel_initializer=\"uniform\",activation='relu'))        \n",
    "    model.add(Dense(1,kernel_initializer=\"uniform\",activation='linear'))\n",
    "    \n",
    "    model.compile(loss='mse',optimizer='adam', metrics=['accuracy'])\n",
    "    return model"
   ]
  },
  {
   "cell_type": "code",
   "execution_count": 75,
   "id": "04d2c68b",
   "metadata": {
    "execution": {
     "iopub.execute_input": "2021-08-27T09:15:28.098562Z",
     "iopub.status.busy": "2021-08-27T09:15:28.097538Z",
     "iopub.status.idle": "2021-08-27T09:15:28.926657Z",
     "shell.execute_reply": "2021-08-27T09:15:28.925898Z",
     "shell.execute_reply.started": "2021-08-27T07:16:51.029805Z"
    },
    "papermill": {
     "duration": 0.852324,
     "end_time": "2021-08-27T09:15:28.926834",
     "exception": false,
     "start_time": "2021-08-27T09:15:28.074510",
     "status": "completed"
    },
    "tags": []
   },
   "outputs": [],
   "source": [
    "model = build_model(input_shape=(window, 5))"
   ]
  },
  {
   "cell_type": "code",
   "execution_count": 77,
   "id": "821588db",
   "metadata": {
    "execution": {
     "iopub.execute_input": "2021-08-27T09:15:28.966949Z",
     "iopub.status.busy": "2021-08-27T09:15:28.965969Z",
     "iopub.status.idle": "2021-08-27T09:32:56.458120Z",
     "shell.execute_reply": "2021-08-27T09:32:56.415380Z",
     "shell.execute_reply.started": "2021-08-27T07:16:51.802243Z"
    },
    "papermill": {
     "duration": 1047.513473,
     "end_time": "2021-08-27T09:32:56.458334",
     "exception": false,
     "start_time": "2021-08-27T09:15:28.944861",
     "status": "completed"
    },
    "tags": []
   },
   "outputs": [
    {
     "name": "stdout",
     "output_type": "stream",
     "text": [
      "Epoch 1/100\n",
      "41/41 [==============================] - 1s 20ms/step - loss: 6.7600e-04 - accuracy: 7.6746e-04\n",
      "Epoch 2/100\n",
      "41/41 [==============================] - 1s 22ms/step - loss: 5.9016e-04 - accuracy: 7.6746e-04\n",
      "Epoch 3/100\n",
      "41/41 [==============================] - 1s 20ms/step - loss: 6.4719e-04 - accuracy: 7.6746e-04\n",
      "Epoch 4/100\n",
      "41/41 [==============================] - 1s 22ms/step - loss: 6.5423e-04 - accuracy: 7.6746e-04\n",
      "Epoch 5/100\n",
      "41/41 [==============================] - 1s 20ms/step - loss: 6.4004e-04 - accuracy: 7.6746e-04\n",
      "Epoch 6/100\n",
      "41/41 [==============================] - 1s 20ms/step - loss: 6.8049e-04 - accuracy: 7.6746e-04\n",
      "Epoch 7/100\n",
      "41/41 [==============================] - 1s 20ms/step - loss: 5.5522e-04 - accuracy: 7.6746e-04\n",
      "Epoch 8/100\n",
      "41/41 [==============================] - 1s 20ms/step - loss: 5.6216e-04 - accuracy: 7.6746e-04\n",
      "Epoch 9/100\n",
      "41/41 [==============================] - 1s 20ms/step - loss: 6.0197e-04 - accuracy: 7.6746e-04\n",
      "Epoch 10/100\n",
      "41/41 [==============================] - 1s 20ms/step - loss: 5.7399e-04 - accuracy: 7.6746e-04\n",
      "Epoch 11/100\n",
      "41/41 [==============================] - 1s 20ms/step - loss: 6.5290e-04 - accuracy: 7.6746e-04\n",
      "Epoch 12/100\n",
      "41/41 [==============================] - 1s 22ms/step - loss: 5.3680e-04 - accuracy: 7.6746e-04\n",
      "Epoch 13/100\n",
      "41/41 [==============================] - 1s 20ms/step - loss: 5.3749e-04 - accuracy: 7.6746e-04\n",
      "Epoch 14/100\n",
      "41/41 [==============================] - 1s 22ms/step - loss: 5.4351e-04 - accuracy: 7.6746e-04\n",
      "Epoch 15/100\n",
      "41/41 [==============================] - 1s 20ms/step - loss: 5.1263e-04 - accuracy: 7.6746e-04\n",
      "Epoch 16/100\n",
      "41/41 [==============================] - 1s 20ms/step - loss: 5.2086e-04 - accuracy: 7.6746e-04\n",
      "Epoch 17/100\n",
      "41/41 [==============================] - 1s 20ms/step - loss: 5.1144e-04 - accuracy: 7.6746e-04\n",
      "Epoch 18/100\n",
      "41/41 [==============================] - 1s 20ms/step - loss: 4.8397e-04 - accuracy: 7.6746e-04\n",
      "Epoch 19/100\n",
      "41/41 [==============================] - 1s 20ms/step - loss: 5.2350e-04 - accuracy: 7.6746e-04\n",
      "Epoch 20/100\n",
      "41/41 [==============================] - 1s 20ms/step - loss: 5.4712e-04 - accuracy: 7.6746e-04\n",
      "Epoch 21/100\n",
      "41/41 [==============================] - 1s 20ms/step - loss: 5.0699e-04 - accuracy: 7.6746e-04\n",
      "Epoch 22/100\n",
      "41/41 [==============================] - 1s 21ms/step - loss: 4.6760e-04 - accuracy: 7.6746e-04\n",
      "Epoch 23/100\n",
      "41/41 [==============================] - 1s 22ms/step - loss: 4.9376e-04 - accuracy: 7.6746e-04\n",
      "Epoch 24/100\n",
      "41/41 [==============================] - 1s 21ms/step - loss: 4.8293e-04 - accuracy: 7.6746e-04\n",
      "Epoch 25/100\n",
      "41/41 [==============================] - 1s 21ms/step - loss: 4.4458e-04 - accuracy: 7.6746e-04\n",
      "Epoch 26/100\n",
      "41/41 [==============================] - 1s 21ms/step - loss: 4.5996e-04 - accuracy: 7.6746e-04\n",
      "Epoch 27/100\n",
      "41/41 [==============================] - 1s 22ms/step - loss: 5.6321e-04 - accuracy: 7.6746e-04\n",
      "Epoch 28/100\n",
      "41/41 [==============================] - 1s 21ms/step - loss: 5.5376e-04 - accuracy: 7.6746e-04\n",
      "Epoch 29/100\n",
      "41/41 [==============================] - 1s 20ms/step - loss: 4.6237e-04 - accuracy: 7.6746e-04\n",
      "Epoch 30/100\n",
      "41/41 [==============================] - 1s 21ms/step - loss: 4.5317e-04 - accuracy: 7.6746e-04\n",
      "Epoch 31/100\n",
      "41/41 [==============================] - 1s 20ms/step - loss: 4.3809e-04 - accuracy: 7.6746e-04\n",
      "Epoch 32/100\n",
      "41/41 [==============================] - 1s 20ms/step - loss: 4.2893e-04 - accuracy: 7.6746e-04\n",
      "Epoch 33/100\n",
      "41/41 [==============================] - 1s 20ms/step - loss: 3.9310e-04 - accuracy: 7.6746e-04\n",
      "Epoch 34/100\n",
      "41/41 [==============================] - 1s 20ms/step - loss: 4.3387e-04 - accuracy: 7.6746e-04\n",
      "Epoch 35/100\n",
      "41/41 [==============================] - 1s 20ms/step - loss: 4.5091e-04 - accuracy: 7.6746e-04\n",
      "Epoch 36/100\n",
      "41/41 [==============================] - 1s 20ms/step - loss: 4.5566e-04 - accuracy: 7.6746e-04\n",
      "Epoch 37/100\n",
      "41/41 [==============================] - 1s 20ms/step - loss: 4.3306e-04 - accuracy: 7.6746e-04\n",
      "Epoch 38/100\n",
      "41/41 [==============================] - 1s 20ms/step - loss: 3.7382e-04 - accuracy: 7.6746e-04\n",
      "Epoch 39/100\n",
      "41/41 [==============================] - 1s 21ms/step - loss: 3.9786e-04 - accuracy: 7.6746e-04\n",
      "Epoch 40/100\n",
      "41/41 [==============================] - 1s 21ms/step - loss: 4.2385e-04 - accuracy: 7.6746e-04\n",
      "Epoch 41/100\n",
      "41/41 [==============================] - 1s 23ms/step - loss: 3.7979e-04 - accuracy: 7.6746e-04\n",
      "Epoch 42/100\n",
      "41/41 [==============================] - 1s 20ms/step - loss: 3.9014e-04 - accuracy: 7.6746e-04\n",
      "Epoch 43/100\n",
      "41/41 [==============================] - 1s 21ms/step - loss: 4.3595e-04 - accuracy: 7.6746e-04\n",
      "Epoch 44/100\n",
      "41/41 [==============================] - 1s 21ms/step - loss: 4.1486e-04 - accuracy: 7.6746e-04\n",
      "Epoch 45/100\n",
      "41/41 [==============================] - 1s 20ms/step - loss: 3.5008e-04 - accuracy: 7.6746e-04\n",
      "Epoch 46/100\n",
      "41/41 [==============================] - 1s 20ms/step - loss: 3.1395e-04 - accuracy: 7.6746e-04\n",
      "Epoch 47/100\n",
      "41/41 [==============================] - 1s 20ms/step - loss: 3.8722e-04 - accuracy: 7.6746e-04\n",
      "Epoch 48/100\n",
      "41/41 [==============================] - 1s 21ms/step - loss: 3.6542e-04 - accuracy: 7.6746e-04\n",
      "Epoch 49/100\n",
      "41/41 [==============================] - 1s 21ms/step - loss: 3.5725e-04 - accuracy: 7.6746e-04\n",
      "Epoch 50/100\n",
      "41/41 [==============================] - 1s 20ms/step - loss: 3.6843e-04 - accuracy: 7.6746e-04\n",
      "Epoch 51/100\n",
      "41/41 [==============================] - 1s 20ms/step - loss: 3.5833e-04 - accuracy: 7.6746e-04\n",
      "Epoch 52/100\n",
      "41/41 [==============================] - 1s 21ms/step - loss: 3.3046e-04 - accuracy: 7.6746e-04\n",
      "Epoch 53/100\n",
      "41/41 [==============================] - 1s 20ms/step - loss: 3.2677e-04 - accuracy: 7.6746e-04\n",
      "Epoch 54/100\n",
      "41/41 [==============================] - 1s 21ms/step - loss: 3.3247e-04 - accuracy: 7.6746e-04\n",
      "Epoch 55/100\n",
      "41/41 [==============================] - 1s 20ms/step - loss: 3.4191e-04 - accuracy: 7.6746e-04\n",
      "Epoch 56/100\n",
      "41/41 [==============================] - 1s 21ms/step - loss: 3.2377e-04 - accuracy: 7.6746e-04\n",
      "Epoch 57/100\n",
      "41/41 [==============================] - 1s 21ms/step - loss: 3.1160e-04 - accuracy: 7.6746e-04\n",
      "Epoch 58/100\n",
      "41/41 [==============================] - 1s 21ms/step - loss: 3.4420e-04 - accuracy: 7.6746e-04\n",
      "Epoch 59/100\n",
      "41/41 [==============================] - 1s 22ms/step - loss: 3.2680e-04 - accuracy: 7.6746e-04\n",
      "Epoch 60/100\n",
      "41/41 [==============================] - 1s 23ms/step - loss: 3.1375e-04 - accuracy: 7.6746e-04\n",
      "Epoch 61/100\n",
      "41/41 [==============================] - 1s 23ms/step - loss: 3.1602e-04 - accuracy: 7.6746e-04\n",
      "Epoch 62/100\n",
      "41/41 [==============================] - 1s 23ms/step - loss: 3.2448e-04 - accuracy: 7.6746e-04\n",
      "Epoch 63/100\n",
      "41/41 [==============================] - 1s 22ms/step - loss: 3.0171e-04 - accuracy: 7.6746e-04\n",
      "Epoch 64/100\n",
      "41/41 [==============================] - 1s 21ms/step - loss: 3.1539e-04 - accuracy: 7.6746e-04\n",
      "Epoch 65/100\n",
      "41/41 [==============================] - 1s 22ms/step - loss: 3.1552e-04 - accuracy: 7.6746e-04\n",
      "Epoch 66/100\n",
      "41/41 [==============================] - 1s 23ms/step - loss: 3.4125e-04 - accuracy: 7.6746e-04\n",
      "Epoch 67/100\n",
      "41/41 [==============================] - 1s 22ms/step - loss: 2.9682e-04 - accuracy: 7.6746e-04\n",
      "Epoch 68/100\n",
      "41/41 [==============================] - 1s 22ms/step - loss: 3.0473e-04 - accuracy: 7.6746e-04\n",
      "Epoch 69/100\n",
      "41/41 [==============================] - 1s 21ms/step - loss: 3.4503e-04 - accuracy: 7.6746e-04\n",
      "Epoch 70/100\n",
      "41/41 [==============================] - 1s 22ms/step - loss: 3.3845e-04 - accuracy: 7.6746e-04\n",
      "Epoch 71/100\n",
      "41/41 [==============================] - 1s 22ms/step - loss: 2.9364e-04 - accuracy: 7.6746e-04\n",
      "Epoch 72/100\n",
      "41/41 [==============================] - 1s 22ms/step - loss: 2.6481e-04 - accuracy: 7.6746e-04\n",
      "Epoch 73/100\n",
      "41/41 [==============================] - 1s 22ms/step - loss: 3.0045e-04 - accuracy: 7.6746e-04\n",
      "Epoch 74/100\n",
      "41/41 [==============================] - 1s 21ms/step - loss: 3.0766e-04 - accuracy: 7.6746e-04\n",
      "Epoch 75/100\n",
      "41/41 [==============================] - 1s 22ms/step - loss: 2.9621e-04 - accuracy: 7.6746e-04\n",
      "Epoch 76/100\n",
      "41/41 [==============================] - 1s 22ms/step - loss: 3.0004e-04 - accuracy: 7.6746e-04\n",
      "Epoch 77/100\n",
      "41/41 [==============================] - 1s 21ms/step - loss: 3.2546e-04 - accuracy: 7.6746e-04\n",
      "Epoch 78/100\n",
      "41/41 [==============================] - 1s 20ms/step - loss: 2.8845e-04 - accuracy: 7.6746e-04\n",
      "Epoch 79/100\n",
      "41/41 [==============================] - 1s 20ms/step - loss: 2.7424e-04 - accuracy: 7.6746e-04\n",
      "Epoch 80/100\n",
      "41/41 [==============================] - 1s 21ms/step - loss: 2.6429e-04 - accuracy: 7.6746e-04\n",
      "Epoch 81/100\n",
      "41/41 [==============================] - 1s 20ms/step - loss: 3.0083e-04 - accuracy: 7.6746e-04\n",
      "Epoch 82/100\n",
      "41/41 [==============================] - 1s 20ms/step - loss: 3.1427e-04 - accuracy: 7.6746e-04\n",
      "Epoch 83/100\n",
      "41/41 [==============================] - 1s 20ms/step - loss: 3.0872e-04 - accuracy: 7.6746e-04\n",
      "Epoch 84/100\n",
      "41/41 [==============================] - 1s 20ms/step - loss: 2.7380e-04 - accuracy: 7.6746e-04\n",
      "Epoch 85/100\n",
      "41/41 [==============================] - 1s 20ms/step - loss: 2.9234e-04 - accuracy: 7.6746e-04\n",
      "Epoch 86/100\n",
      "41/41 [==============================] - 1s 20ms/step - loss: 3.1885e-04 - accuracy: 7.6746e-04\n",
      "Epoch 87/100\n",
      "41/41 [==============================] - 1s 20ms/step - loss: 2.8331e-04 - accuracy: 7.6746e-04\n",
      "Epoch 88/100\n",
      "41/41 [==============================] - 1s 21ms/step - loss: 2.5951e-04 - accuracy: 7.6746e-04\n",
      "Epoch 89/100\n",
      "41/41 [==============================] - 1s 20ms/step - loss: 2.5388e-04 - accuracy: 7.6746e-04\n",
      "Epoch 90/100\n",
      "41/41 [==============================] - 1s 20ms/step - loss: 2.8446e-04 - accuracy: 7.6746e-04\n",
      "Epoch 91/100\n",
      "41/41 [==============================] - 1s 20ms/step - loss: 2.5856e-04 - accuracy: 7.6746e-04\n",
      "Epoch 92/100\n",
      "41/41 [==============================] - 1s 22ms/step - loss: 2.5858e-04 - accuracy: 7.6746e-04\n",
      "Epoch 93/100\n",
      "41/41 [==============================] - 1s 21ms/step - loss: 2.8418e-04 - accuracy: 7.6746e-04\n",
      "Epoch 94/100\n",
      "41/41 [==============================] - 1s 21ms/step - loss: 2.7619e-04 - accuracy: 7.6746e-04\n",
      "Epoch 95/100\n",
      "41/41 [==============================] - 1s 23ms/step - loss: 2.6737e-04 - accuracy: 7.6746e-04\n",
      "Epoch 96/100\n",
      "41/41 [==============================] - 1s 21ms/step - loss: 2.7745e-04 - accuracy: 7.6746e-04\n",
      "Epoch 97/100\n",
      "41/41 [==============================] - 1s 21ms/step - loss: 2.8013e-04 - accuracy: 7.6746e-04\n",
      "Epoch 98/100\n",
      "41/41 [==============================] - 1s 20ms/step - loss: 2.4218e-04 - accuracy: 7.6746e-04\n",
      "Epoch 99/100\n",
      "41/41 [==============================] - 1s 20ms/step - loss: 2.5902e-04 - accuracy: 7.6746e-04\n",
      "Epoch 100/100\n",
      "41/41 [==============================] - 1s 20ms/step - loss: 2.7054e-04 - accuracy: 7.6746e-04\n"
     ]
    },
    {
     "data": {
      "text/plain": [
       "<tensorflow.python.keras.callbacks.History at 0x1a1a8c849d0>"
      ]
     },
     "execution_count": 77,
     "metadata": {},
     "output_type": "execute_result"
    }
   ],
   "source": [
    "model.fit(X_train, y_train, batch_size=32, epochs=100, verbose=1)"
   ]
  },
  {
   "cell_type": "code",
   "execution_count": 78,
   "id": "136f7774",
   "metadata": {
    "execution": {
     "iopub.execute_input": "2021-08-27T09:33:06.081483Z",
     "iopub.status.busy": "2021-08-27T09:33:06.080769Z",
     "iopub.status.idle": "2021-08-27T09:33:06.112786Z",
     "shell.execute_reply": "2021-08-27T09:33:06.112013Z",
     "shell.execute_reply.started": "2021-08-27T07:37:59.730639Z"
    },
    "papermill": {
     "duration": 4.771723,
     "end_time": "2021-08-27T09:33:06.112954",
     "exception": false,
     "start_time": "2021-08-27T09:33:01.341231",
     "status": "completed"
    },
    "tags": []
   },
   "outputs": [],
   "source": [
    "save_model(model, \"model.h5\")"
   ]
  },
  {
   "cell_type": "code",
   "execution_count": 79,
   "id": "ab9d6c45",
   "metadata": {
    "execution": {
     "iopub.execute_input": "2021-08-27T09:33:15.612892Z",
     "iopub.status.busy": "2021-08-27T09:33:15.611912Z",
     "iopub.status.idle": "2021-08-27T09:33:16.180616Z",
     "shell.execute_reply": "2021-08-27T09:33:16.179848Z",
     "shell.execute_reply.started": "2021-08-27T07:38:47.657941Z"
    },
    "papermill": {
     "duration": 5.310647,
     "end_time": "2021-08-27T09:33:16.180798",
     "exception": false,
     "start_time": "2021-08-27T09:33:10.870151",
     "status": "completed"
    },
    "tags": []
   },
   "outputs": [],
   "source": [
    "model = load_model(\"model.h5\")"
   ]
  },
  {
   "cell_type": "code",
   "execution_count": 80,
   "id": "a434cacd",
   "metadata": {
    "execution": {
     "iopub.execute_input": "2021-08-27T09:33:25.661734Z",
     "iopub.status.busy": "2021-08-27T09:33:25.660769Z",
     "iopub.status.idle": "2021-08-27T09:33:27.267574Z",
     "shell.execute_reply": "2021-08-27T09:33:27.266959Z",
     "shell.execute_reply.started": "2021-08-27T07:38:55.997578Z"
    },
    "papermill": {
     "duration": 6.360692,
     "end_time": "2021-08-27T09:33:27.267717",
     "exception": false,
     "start_time": "2021-08-27T09:33:20.907025",
     "status": "completed"
    },
    "tags": []
   },
   "outputs": [],
   "source": [
    "trainPredict = model.predict(X_train)\n",
    "testPredict = model.predict(X_test)"
   ]
  },
  {
   "cell_type": "code",
   "execution_count": 81,
   "id": "1ee9c69f",
   "metadata": {
    "execution": {
     "iopub.execute_input": "2021-08-27T09:33:36.742685Z",
     "iopub.status.busy": "2021-08-27T09:33:36.741861Z",
     "iopub.status.idle": "2021-08-27T09:33:36.746223Z",
     "shell.execute_reply": "2021-08-27T09:33:36.745500Z",
     "shell.execute_reply.started": "2021-08-27T07:39:03.367701Z"
    },
    "papermill": {
     "duration": 4.698919,
     "end_time": "2021-08-27T09:33:36.746370",
     "exception": false,
     "start_time": "2021-08-27T09:33:32.047451",
     "status": "completed"
    },
    "tags": []
   },
   "outputs": [],
   "source": [
    "trainPredict = y_scaler.inverse_transform(trainPredict)\n",
    "trainY = y_scaler.inverse_transform([y_train])\n",
    "testPredict = y_scaler.inverse_transform(testPredict)\n",
    "testY = y_scaler.inverse_transform([y_test])"
   ]
  },
  {
   "cell_type": "code",
   "execution_count": 82,
   "id": "32258cb1",
   "metadata": {
    "execution": {
     "iopub.execute_input": "2021-08-27T09:33:46.346691Z",
     "iopub.status.busy": "2021-08-27T09:33:46.345712Z",
     "iopub.status.idle": "2021-08-27T09:33:46.352164Z",
     "shell.execute_reply": "2021-08-27T09:33:46.352640Z",
     "shell.execute_reply.started": "2021-08-27T07:39:41.943288Z"
    },
    "papermill": {
     "duration": 4.78109,
     "end_time": "2021-08-27T09:33:46.352821",
     "exception": false,
     "start_time": "2021-08-27T09:33:41.571731",
     "status": "completed"
    },
    "tags": []
   },
   "outputs": [
    {
     "name": "stdout",
     "output_type": "stream",
     "text": [
      "(145, 1)\n",
      "(145, 1)\n"
     ]
    }
   ],
   "source": [
    "plot_predicted = testPredict.copy()\n",
    "plot_predicted = plot_predicted.reshape(145, 1)\n",
    "plot_actual = testY.copy()\n",
    "plot_actual = plot_actual.reshape(145, 1)\n",
    "print(plot_actual.shape)\n",
    "print(plot_predicted.shape)"
   ]
  },
  {
   "cell_type": "code",
   "execution_count": 83,
   "id": "cf525dd2",
   "metadata": {
    "execution": {
     "iopub.execute_input": "2021-08-27T09:33:55.812181Z",
     "iopub.status.busy": "2021-08-27T09:33:55.811233Z",
     "iopub.status.idle": "2021-08-27T09:33:55.820270Z",
     "shell.execute_reply": "2021-08-27T09:33:55.819613Z",
     "shell.execute_reply.started": "2021-08-27T07:39:44.395124Z"
    },
    "papermill": {
     "duration": 4.775878,
     "end_time": "2021-08-27T09:33:55.820412",
     "exception": false,
     "start_time": "2021-08-27T09:33:51.044534",
     "status": "completed"
    },
    "tags": []
   },
   "outputs": [],
   "source": [
    "plot_x = pd.to_datetime(plot_x.iloc[-174:])"
   ]
  },
  {
   "cell_type": "code",
   "execution_count": 84,
   "id": "701e3153",
   "metadata": {
    "execution": {
     "iopub.execute_input": "2021-08-27T09:34:05.360264Z",
     "iopub.status.busy": "2021-08-27T09:34:05.359587Z",
     "iopub.status.idle": "2021-08-27T09:34:05.647824Z",
     "shell.execute_reply": "2021-08-27T09:34:05.648320Z",
     "shell.execute_reply.started": "2021-08-27T07:39:53.541104Z"
    },
    "papermill": {
     "duration": 5.081375,
     "end_time": "2021-08-27T09:34:05.648485",
     "exception": false,
     "start_time": "2021-08-27T09:34:00.567110",
     "status": "completed"
    },
    "tags": []
   },
   "outputs": [
    {
     "data": {
      "image/png": "[encoded data removed]",
      "text/plain": [
       "<Figure size 1008x576 with 1 Axes>"
      ]
     },
     "metadata": {},
     "output_type": "display_data"
    }
   ],
   "source": [
    "plt.plot(pd.DataFrame(plot_predicted), label='Predicted')\n",
    "plt.plot(pd.DataFrame(plot_actual), label='Actual')\n",
    "plt.legend(loc='best')\n",
    "plt.show()"
   ]
  },
  {
   "cell_type": "code",
   "execution_count": 85,
   "id": "7b454c6e",
   "metadata": {
    "execution": {
     "iopub.execute_input": "2021-08-27T09:34:15.182159Z",
     "iopub.status.busy": "2021-08-27T09:34:15.181152Z",
     "iopub.status.idle": "2021-08-27T09:34:15.187519Z",
     "shell.execute_reply": "2021-08-27T09:34:15.186718Z",
     "shell.execute_reply.started": "2021-08-27T07:48:58.573038Z"
    },
    "papermill": {
     "duration": 4.769372,
     "end_time": "2021-08-27T09:34:15.187738",
     "exception": false,
     "start_time": "2021-08-27T09:34:10.418366",
     "status": "completed"
    },
    "tags": []
   },
   "outputs": [
    {
     "name": "stdout",
     "output_type": "stream",
     "text": [
      "Train Score: 120.17 RMSE\n",
      "Test Score: 273.68 RMSE\n"
     ]
    }
   ],
   "source": [
    "trainScore = metrics.mean_squared_error(trainY[0], trainPredict[:,0]) ** .5\n",
    "print('Train Score: %.2f RMSE' % (trainScore))\n",
    "testScore = metrics.mean_squared_error(testY[0], testPredict[:,0]) ** .5\n",
    "print('Test Score: %.2f RMSE' % (testScore))"
   ]
  },
  {
   "cell_type": "markdown",
   "id": "4108c9e6",
   "metadata": {
    "execution": {
     "iopub.execute_input": "2021-08-27T07:52:43.811901Z",
     "iopub.status.busy": "2021-08-27T07:52:43.811518Z",
     "iopub.status.idle": "2021-08-27T07:52:43.840566Z",
     "shell.execute_reply": "2021-08-27T07:52:43.839253Z",
     "shell.execute_reply.started": "2021-08-27T07:52:43.811867Z"
    },
    "papermill": {
     "duration": 4.686364,
     "end_time": "2021-08-27T09:34:24.637341",
     "exception": false,
     "start_time": "2021-08-27T09:34:19.950977",
     "status": "completed"
    },
    "tags": []
   },
   "source": [
    "### Plotting Results"
   ]
  },
  {
   "cell_type": "code",
   "execution_count": 86,
   "id": "6f502f70",
   "metadata": {},
   "outputs": [],
   "source": [
    "nifty_stock_prices = df[\"Close\"].values.astype('float32')\n",
    "nifty_stock_prices = nifty_stock_prices.reshape(len(nifty_stock_prices), 1)"
   ]
  },
  {
   "cell_type": "code",
   "execution_count": 87,
   "id": "46d3225b",
   "metadata": {},
   "outputs": [],
   "source": [
    "trainPredictPlot = np.empty_like(nifty_stock_prices)\n",
    "trainPredictPlot[:, :] = np.nan\n",
    "trainPredictPlot[window:len(trainPredict)+window, :] = trainPredict\n",
    "\n",
    "testPredictPlot = np.empty_like(nifty_stock_prices)\n",
    "testPredictPlot[:, :] = np.nan\n",
    "testPredictPlot[(len(nifty_stock_prices) - testPredict.shape[0]):len(nifty_stock_prices), :] = testPredict"
   ]
  },
  {
   "cell_type": "code",
   "execution_count": 88,
   "id": "34bdb366",
   "metadata": {},
   "outputs": [
    {
     "data": {
      "image/png": "[encoded data removed]",
      "text/plain": [
       "<Figure size 1008x576 with 1 Axes>"
      ]
     },
     "metadata": {},
     "output_type": "display_data"
    }
   ],
   "source": [
    "plt.plot(pd.DataFrame(nifty_stock_prices, columns=[\"Close\"], index=df.index).Close, label='Actual')\n",
    "plt.plot(pd.DataFrame(trainPredictPlot, columns=[\"Close\"], index=df.index).Close, label='Training')\n",
    "plt.plot(pd.DataFrame(testPredictPlot, columns=[\"Close\"], index=df.index).Close, label='Testing')\n",
    "plt.legend(loc='best')\n",
    "plt.title(\"NIFTY50\")\n",
    "plt.show()"
   ]
  }
 ],
 "metadata": {
  "kernelspec": {
   "display_name": "Python 3",
   "language": "python",
   "name": "python3"
  },
  "language_info": {
   "codemirror_mode": {
    "name": "ipython",
    "version": 3
   },
   "file_extension": ".py",
   "mimetype": "text/x-python",
   "name": "python",
   "nbconvert_exporter": "python",
   "pygments_lexer": "ipython3",
   "version": "3.8.8"
  },
  "papermill": {
   "default_parameters": {},
   "duration": 1157.819233,
   "end_time": "2021-08-27T09:34:31.184485",
   "environment_variables": {},
   "exception": null,
   "input_path": "__notebook__.ipynb",
   "output_path": "__notebook__.ipynb",
   "parameters": {},
   "start_time": "2021-08-27T09:15:13.365252",
   "version": "2.3.3"
  }
 },
 "nbformat": 4,
 "nbformat_minor": 5
}
